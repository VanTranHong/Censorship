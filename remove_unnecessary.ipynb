{
 "cells": [
  {
   "cell_type": "code",
   "execution_count": 1,
   "id": "2c3d37be",
   "metadata": {},
   "outputs": [],
   "source": [
    "import os\n",
    "import datetime\n",
    "import argparse\n",
    "import pandas as pd\n",
    "import glob\n"
   ]
  },
  {
   "cell_type": "code",
   "execution_count": 2,
   "id": "fa80116b",
   "metadata": {},
   "outputs": [],
   "source": [
    "folder = \"/data/censorship/OONI/\""
   ]
  },
  {
   "cell_type": "code",
   "execution_count": 3,
   "id": "82c2086e",
   "metadata": {},
   "outputs": [],
   "source": [
    "def generate_dates(start_date, end_date):\n",
    "    lst =  pd.date_range(start_date, end_date, freq='D')\n",
    "    \n",
    "    list_date = []\n",
    "    for i in range(len(lst)):\n",
    "        list_date.append(lst[i].date().strftime(\"%Y-%m-%d\"))\n",
    "    return list_date\n",
    "dates = generate_dates('2021-06-20','2022-02-09')"
   ]
  },
  {
   "cell_type": "code",
   "execution_count": 4,
   "id": "1a171b7b",
   "metadata": {},
   "outputs": [],
   "source": [
    "for date in dates:\n",
    "    for filename in glob.glob(folder+date+\"/*/*/*.tar.gz\"):\n",
    "        cmd = \"rm \"+ filename\n",
    "        os.system(cmd)\n"
   ]
  },
  {
   "cell_type": "code",
   "execution_count": null,
   "id": "42b575c0",
   "metadata": {},
   "outputs": [],
   "source": []
  }
 ],
 "metadata": {
  "kernelspec": {
   "display_name": "Python 3 (ipykernel)",
   "language": "python",
   "name": "python3"
  },
  "language_info": {
   "codemirror_mode": {
    "name": "ipython",
    "version": 3
   },
   "file_extension": ".py",
   "mimetype": "text/x-python",
   "name": "python",
   "nbconvert_exporter": "python",
   "pygments_lexer": "ipython3",
   "version": "3.8.5"
  }
 },
 "nbformat": 4,
 "nbformat_minor": 5
}
