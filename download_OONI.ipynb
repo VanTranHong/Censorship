{
 "cells": [
  {
   "cell_type": "code",
   "execution_count": 1,
   "id": "b4870389",
   "metadata": {},
   "outputs": [],
   "source": [
    "import os\n",
    "import datetime\n",
    "import argparse\n",
    "import pandas as pd\n"
   ]
  },
  {
   "cell_type": "code",
   "execution_count": 2,
   "id": "7d8b7dd1",
   "metadata": {},
   "outputs": [],
   "source": [
    "def generate_hours():\n",
    "    return_list = []\n",
    "    for i in range(24):\n",
    "        str_num = str(i)\n",
    "        if len(str_num)==1:\n",
    "            return_list.append(\"0\"+str_num)\n",
    "        else:\n",
    "            return_list.append(str_num)\n",
    "    return return_list\n",
    "def generate_dates(start_date, end_date):\n",
    "    lst =  pd.date_range(start_date, end_date, freq='D')\n",
    "    \n",
    "    list_date = []\n",
    "    for i in range(len(lst)):\n",
    "        list_date.append(lst[i].date().strftime(\"%Y-%m-%d\"))\n",
    "    return list_date\n",
    "    \n",
    "\n"
   ]
  },
  {
   "cell_type": "code",
   "execution_count": 3,
   "id": "cf5ebaaa",
   "metadata": {},
   "outputs": [],
   "source": [
    "hours = generate_hours()\n",
    "countries = ['TM']"
   ]
  },
  {
   "cell_type": "code",
   "execution_count": 4,
   "id": "ccc9b949",
   "metadata": {},
   "outputs": [
    {
     "ename": "NameError",
     "evalue": "name 'date' is not defined",
     "output_type": "error",
     "traceback": [
      "\u001b[0;31m---------------------------------------------------------------------------\u001b[0m",
      "\u001b[0;31mNameError\u001b[0m                                 Traceback (most recent call last)",
      "Input \u001b[0;32mIn [4]\u001b[0m, in \u001b[0;36m<module>\u001b[0;34m\u001b[0m\n\u001b[1;32m      1\u001b[0m os\u001b[38;5;241m.\u001b[39mchdir(\u001b[38;5;124m'\u001b[39m\u001b[38;5;124m/data/censorship/OONI/\u001b[39m\u001b[38;5;124m'\u001b[39m)\n\u001b[0;32m----> 3\u001b[0m \u001b[38;5;28;01mif\u001b[39;00m \u001b[38;5;129;01mnot\u001b[39;00m os\u001b[38;5;241m.\u001b[39mpath\u001b[38;5;241m.\u001b[39misdir(\u001b[38;5;124m\"\u001b[39m\u001b[38;5;132;01m{}\u001b[39;00m\u001b[38;5;124m/raw_data/\u001b[39m\u001b[38;5;132;01m{}\u001b[39;00m\u001b[38;5;124m\"\u001b[39m\u001b[38;5;241m.\u001b[39mformat(os\u001b[38;5;241m.\u001b[39mgetcwd(), \u001b[43mdate\u001b[49m)):\n\u001b[1;32m      5\u001b[0m     \u001b[38;5;28mprint\u001b[39m(\u001b[38;5;124m\"\u001b[39m\u001b[38;5;124m>>>> crawling data of date: \u001b[39m\u001b[38;5;132;01m{}\u001b[39;00m\u001b[38;5;124m\"\u001b[39m\u001b[38;5;241m.\u001b[39mformat(date))\n\u001b[1;32m      6\u001b[0m     \u001b[38;5;28;01mfor\u001b[39;00m hour \u001b[38;5;129;01min\u001b[39;00m hours:\n",
      "\u001b[0;31mNameError\u001b[0m: name 'date' is not defined"
     ]
    }
   ],
   "source": [
    "os.chdir('/data/censorship/OONI/')\n",
    "\n",
    "if not os.path.isdir(\"{}/raw_data/{}\".format(os.getcwd(), date)):\n",
    "    \n",
    "    print(\">>>> crawling data of date: {}\".format(date))\n",
    "    for hour in hours:\n",
    "        for country in countries:\n",
    "            cmd = \"mkdir {0}; /home/tranv/.local/bin/aws --no-sign-request s3 sync s3://ooni-data-eu-fra/raw/{0}/{2}/{3}/webconnectivity/ ./{1}/{2}/{3}\".format(date.replace('-',''), date,hour,country)\n",
    "            os.system(cmd)"
   ]
  },
  {
   "cell_type": "code",
   "execution_count": null,
   "id": "ddbf559c",
   "metadata": {},
   "outputs": [],
   "source": []
  }
 ],
 "metadata": {
  "kernelspec": {
   "display_name": "Python 3 (ipykernel)",
   "language": "python",
   "name": "python3"
  },
  "language_info": {
   "codemirror_mode": {
    "name": "ipython",
    "version": 3
   },
   "file_extension": ".py",
   "mimetype": "text/x-python",
   "name": "python",
   "nbconvert_exporter": "python",
   "pygments_lexer": "ipython3",
   "version": "3.8.5"
  }
 },
 "nbformat": 4,
 "nbformat_minor": 5
}
